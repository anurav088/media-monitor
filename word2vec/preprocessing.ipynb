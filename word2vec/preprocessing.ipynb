{
 "cells": [
  {
   "cell_type": "code",
   "execution_count": 7,
   "id": "ec86a428",
   "metadata": {},
   "outputs": [
    {
     "name": "stdout",
     "output_type": "stream",
     "text": [
      "Original Text: the little boy is sleeping comofortably in his hanging bed\n",
      "Lemmatized Text: the little boy be sleep comofortably in his hang bed\n"
     ]
    }
   ],
   "source": [
    "import spacy\n",
    "\n",
    "nlp = spacy.load('en_core_web_sm')\n",
    "\n",
    "text = \"the little boy is sleeping comofortably in his hanging bed\"\n",
    "\n",
    "doc = nlp(text)\n",
    "\n",
    "lemmatized_tokens = [token.lemma_ for token in doc]\n",
    "\n",
    "lemmatized_text = ' '.join(lemmatized_tokens)\n",
    "\n",
    "# Output: the little boy be sleep comofortably in his hang bed\n",
    "\n",
    "from gensim.parsing.preprocessing import remove_stopwords \n",
    "\n",
    "print(\"Original Text:\", text)\n",
    "print(\"Lemmatized Text:\", lemmatized_text)\n",
    "\n",
    "\n",
    "#------------------------------------------------#\n",
    "\n",
    "def lemmatize(text):\n",
    "    doc = nlp(text)\n",
    "    lemmatized_tokens = [token.lemma_ for token in doc]\n",
    "    lemmatized_text = ' '.join(lemmatized_tokens)\n",
    "    return lemmatized_text\n"
   ]
  },
  {
   "cell_type": "code",
   "execution_count": 3,
   "id": "58a80713",
   "metadata": {},
   "outputs": [
    {
     "name": "stdout",
     "output_type": "stream",
     "text": [
      "quick brown fox jumps The lazy dog\n"
     ]
    }
   ],
   "source": [
    "from gensim.parsing.preprocessing import remove_stopwords \n",
    "\n",
    "words_str='the quick brown fox jumps over the lazy dog'\n",
    "\n",
    "filtered_words = remove_stopwords(words_str) \n",
    "\n",
    "print(filtered_words)\n",
    "\n",
    "# Output: quick brown fox jumps lazy dog\n",
    "\n",
    "\n",
    "#-----------------------------------------------------#\n",
    "\n",
    "def remove_stopwords(text):\n",
    "    filtered_words = remove_stopwords(text)\n",
    "    return filtered_words\n",
    "\n",
    "\n"
   ]
  },
  {
   "cell_type": "code",
   "execution_count": 19,
   "id": "9808aa2b",
   "metadata": {},
   "outputs": [
    {
     "name": "stdout",
     "output_type": "stream",
     "text": [
      "are you there yet?\n"
     ]
    }
   ],
   "source": [
    "def lowercase(text):\n",
    "    return text.lower()\n",
    "\n",
    "print(lowercase(\"Are yOu tHeRE yeT?\"))\n",
    "# Output: are you there yet?\n"
   ]
  },
  {
   "cell_type": "code",
   "execution_count": 34,
   "id": "b06a2039",
   "metadata": {},
   "outputs": [
    {
     "name": "stdout",
     "output_type": "stream",
     "text": [
      "As the garden and zoo premises are linked plastic and garbage can flow into the animal cages\n"
     ]
    }
   ],
   "source": [
    "''' #97-122 uppercase english, #65-90 lowercase english, whitespace is 32'''\n",
    "#doing this mainly to get rid of the bogus characters polluting the text (â, €, œ ...)\n",
    "\n",
    "\n",
    "def remove_non_alphabets(text):\n",
    "    \n",
    "    permissible={32: ' '} #dictionary initialized with just whitespace \n",
    "    \n",
    "    #adding uppercase english letters to dictionary\n",
    "    for i in range(97,123):\n",
    "        permissible[i]=chr(i)\n",
    "    \n",
    "    #adding lowercase\n",
    "    for i in range(65,91):\n",
    "        permissible[i]=chr(i)\n",
    "        \n",
    "    new_text=''\n",
    "    last_was_space = False #to enforce singular whitespacing when popping out tokens with leading and trailing whitespaces\n",
    "    \n",
    "    for i in text:\n",
    "        if ord(i) in permissible:\n",
    "            if (last_was_space == True) and (i == ' '):\n",
    "                continue\n",
    "            else:\n",
    "                new_text+=i\n",
    "                if i == ' ':\n",
    "                    last_was_space = True\n",
    "                else:\n",
    "                    last_was_space = False\n",
    "    \n",
    "    return new_text\n",
    "\n",
    "\n",
    "text='â€œAs the â€œ garden and zoo premises are linked, plastic and garbage can flow into the animal cages'\n",
    "# output: As the garden and zoo premises are linked plastic and garbage can flow into the animal cages             \n",
    "print(remove_non_alphabets(text))\n",
    "        \n",
    "    \n"
   ]
  },
  {
   "cell_type": "code",
   "execution_count": 39,
   "id": "86f38ca3",
   "metadata": {},
   "outputs": [],
   "source": [
    "#full sample pipeline \n",
    "#1. remove non-alphabets 2. lowercase 3. remove stopwords 4. lemmatize  \n",
    "\n",
    "#this generates the preprocessed CSV file\n",
    "\n",
    "import pandas as pd\n",
    "\n",
    "def preprocess(text):\n",
    "    text = remove_non_alphabets(str(text))\n",
    "    text = lowercase(text)\n",
    "    text = remove_stopwords(text)\n",
    "    text = lemmatize(text)\n",
    "    return text \n",
    "\n",
    "\n",
    "input_file_path = r\"C:\\Users\\Anurav\\TOI_FarmersProtests.csv\"\n",
    "output_file_path = r\"C:\\Users\\Anurav\\preprocessed_TOI_FarmersProtests.csv\"\n",
    "\n",
    "df = pd.read_csv(input_file_path)\n",
    "\n",
    "df['processed_text'] = df['Text'].apply(preprocess)\n",
    "\n",
    "df.to_csv(output_file_path, index=False)"
   ]
  },
  {
   "cell_type": "code",
   "execution_count": 11,
   "id": "67af5e90",
   "metadata": {},
   "outputs": [
    {
     "name": "stdout",
     "output_type": "stream",
     "text": [
      "[['bathinda', 'punjab', 'jail', 'minister', 'sukhjinder', 'singh', 'randhawa', 'order', 'investigation', 'december', 'assault', 'farmer', 'union', 'vicepresident', 'faridkot', 'jail', 'randhawa', 'say', 'ask', 'adgp', 'jail', 'gangster', 'henchman', 'beat', 'inmate', 'kirti', 'kisan', 'union', 'vice', 'president', 'rajinder', 'singh', 'officer', 'rank', 'deputy', 'inspector', 'general', 'police', 'dig', 'ask', 'inquire', 'matter', 'fix', 'responsibility', 'jail', 'staff', 'speak', 'toi', 'randhawa', 'say', 'take', 'matter', 'adgp', 'jail', 'ask', 'matter', 'probe', 'adgp', 'depute', 'diglevel', 'officer', 'investigate', 'concentrate', 'talk', 'inmate', 'beat', 'reach', 'matter', 'guilty', 'dereliction', 'duty', 'take', 'task', 'rajinder', 'attack', 'jail', 'december', 'evening', 'blunt', 'injury', 'body', 'admit', 'guru', 'gobind', 'singh', 'medical', 'college', 'faridkot', 'nishan', 'singh', 'serve', 'life', 'sentence', 'abduct', 'rape', 'minor', 'girl', 'attack', 'case', 'register', 'nishan', 'farmer', 'organisation', 'activist', 'kku', 'presid'], ['vijayawada', 'woman', 'sevenyearold', 'child', 'die', 'spot', 'suffer', 'injury', 'tractor', 'lose', 'control', 'near', 'modalapalli', 'village', 'tavanapalli', 'mandal', 'chittoor', 'district', 'wednesday', 'decease', 'identify', 'bujjamma', 'lokamma', 'gautam', 'accord', 'cop', 'incident', 'happen', 'afternoon', 'tractor', 'heading', 'siddeswara', 'swamy', 'temple', 'cop', 'say', 'tractor', 'overturn', 'turn', 'hairpin', 'bend', 'local', 'rush', 'aid', 'manage', 'rescue', 'injure', 'stuck', 'vehicle', 'information', 'cop', 'reach', 'spot', 'rush', 'injure', 'government', 'hospital', 'treatment', 'case', 'section', 'ipc', 'cause', 'death', 'negligence', 'register', 'body', 'send', 'postmortem'], ['bengaluru', 'state', 'government', 'decision', 'provide', 'reservation', 'contractor', 'belong', 'schedule', 'caste', 'sc', 'schedule', 'tribe', 'st', 'construction', 'contract', 'uphold', 'high', 'court', 'dismissing', 'petition', 'file', 'hm', 'vishwanath', 'class', 'contractor', 'bengaluru', 'justice', 'b', 'veerappa', 'note', 'reservation', 'provide', 'base', 'principle', 'distributive', 'justice', 'protect', 'interest', 'weak', 'section', 'society', 'particularly', 'belong', 'scst', 'category', 'notification', 'issue', 'july', 'state', 'government', 'provide', 'reservation', 'contractor', 'belong', 'sc', 'category', 'reservation', 'contractor', 'belong', 'st', 'category', 'respect', 'contract', 'exceed', 'rs', 'lakhs', 'purpose', 'karnataka', 'transparency', 'public', 'procurement', 'rule', 'amend', 'insert', 'rule', 'rule', 'provide', 'instance', 'contractor', 'category', 'submit', 'response', 'attempt', 'contract', 'relate', 'work', 'tender'], ['mumbai', 'maharashtra', 'see', 'steep', 'rise', 'farmer', 'suicide', 'november', 'case', 'month', 'time', 'year', 'farmer', 'suicide', 'cross', 'case', 'month', 'times', 'spurt', 'case', 'come', 'immediately', 'unseasonal', 'rain', 'lash', 'state', 'october', 'destroy', 'kharif', 'crop', 'time', 'state', 'touch', 'cross', 'farmer', 'suicide', 'month', 'october', 'november', 'year', 'number', 'case', 'rise', 'show', 'late', 'revenue', 'department', 'datum', 'state', 'record', 'farmer', 'suicide', 'october', 'case', 'rise', 'november', 'droughtprone', 'belt', 'marathwada', 'record', 'high', 'number', 'case', 'november', 'vidarbha', 'usually', 'see', 'large', 'number', 'farmer', 'suicide', 'record', 'case', 'result', 'rise', 'case', 'month', 'farmer', 'suicide', 'month', 'period', 'january', 'november', 'high', 'period', 'period', 'number', 'total', 'unseasonal', 'rain', 'hit', 'crore', 'farmer', 'state', 'par', 'population', 'sweden', 'account', 'twothird', 'state', 'f'], ['nagpur', 'devendra', 'fadnavis', 'leader', 'opposition', 'state', 'assembly', 'thursday', 'demand', 'relief', 'hailstormhit', 'farmer', 'district', 'accord', 'hail', 'damage', 'crop', 'large', 'area', 'address', 'public', 'meeting', 'amdi', 'phata', 'dhanala', 'village', 'view', 'zilla', 'parishad', 'zp', 'election', 'chief', 'minister', 'say', 'maha', 'vikas', 'aghadi', 'mva', 'government', 'start', 'innings', 'betray', 'farmer', 'chief', 'minister', 'uddhav', 'thackeray', 'demand', 'compensation', 'rs', 'hectare', 'farmer', 'crop', 'damage', 'unseasonal', 'rain', 'october', 'leaders', 'congress', 'ncp', 'demand', 'rs', 'hectare', 'come', 'power', 'government', 'increase', 'relief', 'grant', 'governor', 'say', 'turn', 'crop', 'loan', 'waiver', 'scheme', 'state', 'government', 'say', 'government', 'waive', 'loan', 'take', 'mva', 'waive', 'loan', 'take', 'mean', 'period', 'year', 'consider', 'cutoff', 'date', 'september', 'farmer', 'take', 'loan', 'october', 'crop', 'damage', 'benefit', 'mva', 'leader', 'promise', 'waive', 'entire', 'crop', 'loa']]\n"
     ]
    }
   ],
   "source": [
    "#this generates the sentence-level training data \n",
    "\n",
    "import pandas as pd \n",
    "\n",
    "file_path = r\"C:\\Users\\Anurav\\preprocessed_TOI_FarmersProtests.csv\"\n",
    "data = pd.read_csv(file_path)\n",
    "\n",
    "data['processed_text'] = data['processed_text'].astype(str)\n",
    "\n",
    "sentences = data['processed_text'].apply(lambda x: x.split()).tolist()\n"
   ]
  },
  {
   "cell_type": "code",
   "execution_count": null,
   "id": "dc4d8d0e",
   "metadata": {},
   "outputs": [],
   "source": []
  }
 ],
 "metadata": {
  "kernelspec": {
   "display_name": "Python 3 (ipykernel)",
   "language": "python",
   "name": "python3"
  },
  "language_info": {
   "codemirror_mode": {
    "name": "ipython",
    "version": 3
   },
   "file_extension": ".py",
   "mimetype": "text/x-python",
   "name": "python",
   "nbconvert_exporter": "python",
   "pygments_lexer": "ipython3",
   "version": "3.11.5"
  }
 },
 "nbformat": 4,
 "nbformat_minor": 5
}
